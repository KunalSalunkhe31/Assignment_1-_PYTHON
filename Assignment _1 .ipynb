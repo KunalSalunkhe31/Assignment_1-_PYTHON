{
 "cells": [
  {
   "cell_type": "code",
   "execution_count": 11,
   "metadata": {},
   "outputs": [
    {
     "name": "stdout",
     "output_type": "stream",
     "text": [
      "['Name : Kunal Salunkhe', 'Age:20', 'DOB:31 March 2001', 'Address: Amalner,Jalgaon ,Maharashtra']\n",
      "['College Name: S.P. College,Pune', 'Class: T.Y.BSc', 'Specialisation: STATISTICS', 'Roll No. : 9128']\n"
     ]
    }
   ],
   "source": [
    "A=[\"Name : Kunal Salunkhe\",\"Age:20\",\"DOB:31 March 2001\",\"Address: Amalner,Jalgaon ,Maharashtra\"]\n",
    "print(A)\n",
    "B=[\"College Name: S.P. College,Pune\",\"Class: T.Y.BSc\",\"Specialisation: STATISTICS\",\"Roll No. : 9128\"]\n",
    "print(B)"
   ]
  },
  {
   "cell_type": "code",
   "execution_count": 13,
   "metadata": {},
   "outputs": [
    {
     "data": {
      "text/plain": [
       "list"
      ]
     },
     "execution_count": 13,
     "metadata": {},
     "output_type": "execute_result"
    }
   ],
   "source": [
    "type(A)\n",
    "type(B)"
   ]
  },
  {
   "cell_type": "code",
   "execution_count": 8,
   "metadata": {},
   "outputs": [
    {
     "name": "stdout",
     "output_type": "stream",
     "text": [
      "Name : Kunal Salunkhe\n",
      "Age:20\n",
      "DOB:31 March 2001\n",
      "Address: Amalner,Jalgaon ,Maharashtra\n"
     ]
    },
    {
     "data": {
      "text/plain": [
       "(None, None, None, None)"
      ]
     },
     "execution_count": 8,
     "metadata": {},
     "output_type": "execute_result"
    }
   ],
   "source": [
    "print(A[0]),print(A[1]),print(A[2]),print(A[3])"
   ]
  },
  {
   "cell_type": "code",
   "execution_count": 14,
   "metadata": {},
   "outputs": [
    {
     "name": "stdout",
     "output_type": "stream",
     "text": [
      "College Name: S.P. College,Pune\n",
      "Class: T.Y.BSc\n",
      "Specialisation: STATISTICS\n",
      "Roll No. : 9128\n"
     ]
    },
    {
     "data": {
      "text/plain": [
       "(None, None, None, None)"
      ]
     },
     "execution_count": 14,
     "metadata": {},
     "output_type": "execute_result"
    }
   ],
   "source": [
    "print(B[0]),print(B[1]),print(B[2]),print(B[3])"
   ]
  },
  {
   "cell_type": "code",
   "execution_count": 15,
   "metadata": {},
   "outputs": [
    {
     "name": "stdout",
     "output_type": "stream",
     "text": [
      "['DOB:31 March 2001', 'Address: Amalner,Jalgaon ,Maharashtra']\n",
      "['Name : Kunal Salunkhe', 'Age:20', 'DOB:31 March 2001']\n"
     ]
    }
   ],
   "source": [
    "print(A[2:]) #access items above 2\n",
    "print(A[:-1])   # Negative index"
   ]
  },
  {
   "cell_type": "code",
   "execution_count": 16,
   "metadata": {},
   "outputs": [
    {
     "name": "stdout",
     "output_type": "stream",
     "text": [
      "['College Name: S.P. College,Pune', 'Class: T.Y.BSc']\n",
      "['Age:20', 'DOB:31 March 2001']\n"
     ]
    }
   ],
   "source": [
    "print(B[0:2]) #access items above 2\n",
    "print(A[-3:-1])   # Negative index"
   ]
  },
  {
   "cell_type": "code",
   "execution_count": 19,
   "metadata": {},
   "outputs": [
    {
     "name": "stdout",
     "output_type": "stream",
     "text": [
      "['Name : Kunal Salunkhe', 'Age:19', 'DOB:31 March 2001', 'Address: Amalner,Jalgaon ,Maharashtra']\n",
      "['Name : Kunal Salunkhe', 'Age:19', 'DOB:31 March 2001', 'Address: Amalner,Jalgaon ,Maharashtra']\n"
     ]
    }
   ],
   "source": [
    "print(A)\n",
    "A[1]=\"Age:19\"\n",
    "print(A)            # Change item in a list"
   ]
  },
  {
   "cell_type": "code",
   "execution_count": 20,
   "metadata": {},
   "outputs": [
    {
     "name": "stdout",
     "output_type": "stream",
     "text": [
      "Name : Kunal Salunkhe\n",
      "Age:19\n",
      "DOB:31 March 2001\n",
      "Address: Amalner,Jalgaon ,Maharashtra\n"
     ]
    }
   ],
   "source": [
    " # looping through list\n",
    "for i in A:\n",
    "    print(i)"
   ]
  },
  {
   "cell_type": "code",
   "execution_count": 23,
   "metadata": {},
   "outputs": [
    {
     "name": "stdout",
     "output_type": "stream",
     "text": [
      "College Name: S.P. College,Pune\n",
      "Class: T.Y.BSc\n",
      "Specialisation: STATISTICS\n",
      "Roll No. : 9128\n"
     ]
    }
   ],
   "source": [
    "for j in B:\n",
    "    print(j)"
   ]
  },
  {
   "cell_type": "code",
   "execution_count": 11,
   "metadata": {},
   "outputs": [
    {
     "name": "stdout",
     "output_type": "stream",
     "text": [
      "['Name : Kunal Salunkhe', ['Class: T.Y.BSc', 'Specialisation: STATISTICS', ['College Name: S.P. College,Pune', ['Roll No. : 9128']]]]\n"
     ]
    }
   ],
   "source": [
    "#nested list\n",
    "mylist=[\"Name : Kunal Salunkhe\",[\"Class: T.Y.BSc\",\"Specialisation: STATISTICS\",\n",
    "                                 [\"College Name: S.P. College,Pune\",\n",
    "                                  [\"Roll No. : 9128\"]]]]\n",
    "print(mylist)"
   ]
  },
  {
   "cell_type": "code",
   "execution_count": 14,
   "metadata": {},
   "outputs": [
    {
     "name": "stdout",
     "output_type": "stream",
     "text": [
      "('Name : Kunal Salunkhe', 'Age:20', 'DOB:31 March 2001', 'Address: Amalner,Jalgaon ,Maharashtra') \n",
      "\n",
      "('College Name: S.P. College,Pune', 'Class: T.Y.BSc', 'Specialisation: STATISTICS', 'Roll No. : 9128')\n"
     ]
    }
   ],
   "source": [
    "#### Tuples ####\n",
    "\n",
    "t1=(\"Name : Kunal Salunkhe\",\"Age:20\",\"DOB:31 March 2001\",\"Address: Amalner,Jalgaon ,Maharashtra\")\n",
    "t2=(\"College Name: S.P. College,Pune\",\"Class: T.Y.BSc\",\"Specialisation: STATISTICS\",\"Roll No. : 9128\")\n",
    "print(t1,\"\\n\")\n",
    "print(t2)\n"
   ]
  },
  {
   "cell_type": "code",
   "execution_count": 23,
   "metadata": {},
   "outputs": [
    {
     "name": "stdout",
     "output_type": "stream",
     "text": [
      "Name : Kunal Salunkhe\n",
      "('Roll No. : 9128',)\n",
      "('Name : Kunal Salunkhe', 'Age:20', 'DOB:31 March 2001', 'Address: Amalner,Jalgaon ,Maharashtra')\n",
      "()\n",
      "('Age:20',)\n"
     ]
    }
   ],
   "source": [
    "#Access elements  (As +ve)\n",
    "print(t1[0])\n",
    "print(t2[3:])\n",
    "print(t1[:4])\n",
    "print(t2[2:2]) ##Hahahaha \n",
    "print(t1[1:2])"
   ]
  },
  {
   "cell_type": "code",
   "execution_count": 31,
   "metadata": {},
   "outputs": [
    {
     "name": "stdout",
     "output_type": "stream",
     "text": [
      "College Name: S.P. College,Pune\n",
      "('Name : Kunal Salunkhe',)\n",
      "()\n",
      "('College Name: S.P. College,Pune', 'Class: T.Y.BSc', 'Specialisation: STATISTICS', 'Roll No. : 9128')\n",
      "('Class: T.Y.BSc', 'Specialisation: STATISTICS', 'Roll No. : 9128')\n",
      "('Name : Kunal Salunkhe', 'Age:20', 'DOB:31 March 2001')\n"
     ]
    }
   ],
   "source": [
    "#Negative Index (As -ve)\n",
    "print(t2[-4])\n",
    "print(t1[:-3])\n",
    "print(t1[-2:-3])\n",
    "print(t2[-7:])   # Note here\n",
    "print(t2[-3:])\n",
    "print(t1[0:3])"
   ]
  },
  {
   "cell_type": "code",
   "execution_count": 35,
   "metadata": {},
   "outputs": [
    {
     "name": "stdout",
     "output_type": "stream",
     "text": [
      "Name : Kunal Salunkhe\n",
      "Age:20\n",
      "DOB:31 March 2001\n",
      "Address: Amalner,Jalgaon ,Maharashtra\n"
     ]
    }
   ],
   "source": [
    "#looping through tuple\n",
    "for d in t1:\n",
    "    print(d)"
   ]
  },
  {
   "cell_type": "code",
   "execution_count": 37,
   "metadata": {},
   "outputs": [
    {
     "name": "stdout",
     "output_type": "stream",
     "text": [
      "Class: T.Y.BSc is listed in t2\n",
      "True\n"
     ]
    }
   ],
   "source": [
    "# check if 'Class: T.Y.BSc' inn t2\n",
    "if \"Class: T.Y.BSc\" in t2:\n",
    "    print(\"Class: T.Y.BSc is listed in t2\")\n",
    "print(\"Class: T.Y.BSc\" in t2)"
   ]
  },
  {
   "cell_type": "code",
   "execution_count": 38,
   "metadata": {},
   "outputs": [
    {
     "name": "stdout",
     "output_type": "stream",
     "text": [
      "False\n"
     ]
    }
   ],
   "source": [
    "# check if 'Class: T.Y.BSc' inn t1   ## note here  \n",
    "if \"Class: T.Y.BSc\" in t1:\n",
    "    print(\"Class: T.Y.BSc is listed in t1\")\n",
    "print(\"Class: T.Y.BSc\" in t1)"
   ]
  },
  {
   "cell_type": "code",
   "execution_count": null,
   "metadata": {},
   "outputs": [],
   "source": []
  }
 ],
 "metadata": {
  "kernelspec": {
   "display_name": "Python 3",
   "language": "python",
   "name": "python3"
  },
  "language_info": {
   "codemirror_mode": {
    "name": "ipython",
    "version": 3
   },
   "file_extension": ".py",
   "mimetype": "text/x-python",
   "name": "python",
   "nbconvert_exporter": "python",
   "pygments_lexer": "ipython3",
   "version": "3.8.5"
  }
 },
 "nbformat": 4,
 "nbformat_minor": 4
}
