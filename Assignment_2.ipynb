{
 "cells": [
  {
   "cell_type": "code",
   "execution_count": 1,
   "metadata": {},
   "outputs": [
    {
     "name": "stdout",
     "output_type": "stream",
     "text": [
      "The original string  is : \n",
      "Python\n",
      "The reversed string(using loops) is : \n",
      "nohtyP\n"
     ]
    }
   ],
   "source": [
    "##Q1 \n",
    "# using loop\n",
    "  \n",
    "def reverse(s):\n",
    "  str = \"\"\n",
    "  for i in s:\n",
    "    str = i + str\n",
    "  return str\n",
    "  \n",
    "s = \"Python\"\n",
    "  \n",
    "print (\"The original string  is : \",)\n",
    "print (s)\n",
    "  \n",
    "print (\"The reversed string(using loops) is : \",)\n",
    "print (reverse(s))"
   ]
  },
  {
   "cell_type": "code",
   "execution_count": 2,
   "metadata": {},
   "outputs": [
    {
     "name": "stdout",
     "output_type": "stream",
     "text": [
      "(1, 19)\n",
      "(1, 1)\n",
      "(-2, 7)\n"
     ]
    }
   ],
   "source": [
    "##Q2 B)\n",
    "### Minimum and Maximum using user defined function\n",
    "def minmax1 (x):\n",
    "    # this function fails if the list length is 0 \n",
    "    minimum = maximum = x[0]\n",
    "    for i in x[1:]:\n",
    "        if i < minimum: \n",
    "            minimum = i \n",
    "        else: \n",
    "            if i > maximum: maximum = i\n",
    "    return (minimum,maximum)\n",
    "\n",
    "print(minmax1([9,8,7,6,5,4,3,2,1,11,12,13,14,15,16,17,18,19]))\n",
    "print(minmax1([1]))\n",
    "print(minmax1([2, 0, 2, 7, 5, -1, -2]))"
   ]
  },
  {
   "cell_type": "code",
   "execution_count": 3,
   "metadata": {},
   "outputs": [
    {
     "name": "stdout",
     "output_type": "stream",
     "text": [
      "Sum of all elements in given list:  74\n"
     ]
    }
   ],
   "source": [
    "##Q3\n",
    "\n",
    "## Python program to find sum of elements in list\n",
    "total = 0\n",
    " \n",
    "## creating a list\n",
    "list1 = [11, 5, 17, 18, 23]\n",
    " \n",
    "# Iterate each element in list\n",
    "# and add them in variable total\n",
    "for ele in range(0, len(list1)):\n",
    "    total = total + list1[ele]\n",
    " \n",
    "# printing total value\n",
    "print(\"Sum of all elements in given list: \", total)\n",
    "  "
   ]
  },
  {
   "cell_type": "code",
   "execution_count": 6,
   "metadata": {},
   "outputs": [
    {
     "name": "stdout",
     "output_type": "stream",
     "text": [
      "0\n",
      "4\n"
     ]
    }
   ],
   "source": [
    "##Q4\n",
    "\n",
    "## Python program to find number of\n",
    "## local variables in a function\n",
    "  \n",
    "## A function containing no variables \n",
    "def python():\n",
    "    pass\n",
    "  \n",
    "## A function containing 3 variables \n",
    "def fun():\n",
    "    a, b, c = 1, 2.25, 333\n",
    "    str = 'GeeksForGeeks'\n",
    "  \n",
    "## Driver program\n",
    "print(python.__code__.co_nlocals)\n",
    "print(fun.__code__.co_nlocals)"
   ]
  },
  {
   "cell_type": "code",
   "execution_count": 5,
   "metadata": {},
   "outputs": [
    {
     "name": "stdout",
     "output_type": "stream",
     "text": [
      "10 4 66 "
     ]
    }
   ],
   "source": [
    "###Q5\n",
    "\n",
    "# Python program to print Even Numbers in a List\n",
    "list1 = [10, 21, 4, 45, 66, 93]\n",
    " \n",
    "for num in list1:\n",
    " \n",
    "    # checking condition\n",
    "    if num % 2 == 0:\n",
    "        print(num, end=\" \")"
   ]
  }
 ],
 "metadata": {
  "kernelspec": {
   "display_name": "Python 3",
   "language": "python",
   "name": "python3"
  },
  "language_info": {
   "codemirror_mode": {
    "name": "ipython",
    "version": 3
   },
   "file_extension": ".py",
   "mimetype": "text/x-python",
   "name": "python",
   "nbconvert_exporter": "python",
   "pygments_lexer": "ipython3",
   "version": "3.8.5"
  }
 },
 "nbformat": 4,
 "nbformat_minor": 4
}
