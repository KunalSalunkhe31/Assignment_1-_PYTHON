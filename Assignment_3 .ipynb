{
 "cells": [
  {
   "cell_type": "code",
   "execution_count": 1,
   "metadata": {},
   "outputs": [
    {
     "name": "stdout",
     "output_type": "stream",
     "text": [
      "10\n"
     ]
    }
   ],
   "source": [
    "# Q.17 Write a program to calculate the length of given string. Run the program for string \"Statistics\".\n",
    "\n",
    "A=\"Statistics\"\n",
    "print(len(A))"
   ]
  },
  {
   "cell_type": "code",
   "execution_count": 2,
   "metadata": {},
   "outputs": [
    {
     "name": "stdout",
     "output_type": "stream",
     "text": [
      "Yes\n"
     ]
    }
   ],
   "source": [
    "# Q.18 Write a program to check whether a given word is palindrome or not. Run the program for 'Madam','Start'.\n",
    "\n",
    "def isPalindrome(s):\n",
    "  return s==s[::-1]\n",
    "\n",
    "s=\"MADAM\"\n",
    "ans = isPalindrome(s)\n",
    "if ans:\n",
    "  print(\"Yes\")\n",
    "else:\n",
    "    print(\"No\")"
   ]
  },
  {
   "cell_type": "code",
   "execution_count": 4,
   "metadata": {},
   "outputs": [
    {
     "name": "stdout",
     "output_type": "stream",
     "text": [
      "count of all characters in Statistics is:\n",
      "Counter({'t': 3, 'i': 2, 's': 2, 'S': 1, 'a': 1, 'c': 1})\n"
     ]
    }
   ],
   "source": [
    "# 19 Write a program to calculate the frequency distribution of charaters in a string:\"Statistics\".\n",
    "\n",
    "from collections import Counter\n",
    "test_str=\"Statistics\"\n",
    "res=Counter(test_str)\n",
    "print(\"count of all characters in Statistics is:\\n\" + str(res))    "
   ]
  },
  {
   "cell_type": "code",
   "execution_count": 5,
   "metadata": {},
   "outputs": [
    {
     "name": "stdout",
     "output_type": "stream",
     "text": [
      "Enter a character: \n",
      "b\n",
      "\n",
      " It is an alphabet\n"
     ]
    }
   ],
   "source": [
    "# Q.20 Write a program to check whether given character is alphabet or not. Run the program for 'b' and '*'.\n",
    "\n",
    "print(\"Enter a character: \")\n",
    "c=input()\n",
    "if c>='a' and c<='z':\n",
    "  print(\"\\n It is an alphabet\")\n",
    "elif c>='A' and c<='Z':\n",
    "  print(\"\\n It is an alphabet \") \n",
    "else:\n",
    "  print(\"\\n It is not an alphabet!\")   "
   ]
  },
  {
   "cell_type": "code",
   "execution_count": 6,
   "metadata": {},
   "outputs": [
    {
     "name": "stdout",
     "output_type": "stream",
     "text": [
      "a is a vowel\n"
     ]
    }
   ],
   "source": [
    "# Q.22 Write a program to check whether a given character is consonant or vowel.Run the program for 'a','f' and 'man'\n",
    "\n",
    "#taking user input\n",
    "ch='a'\n",
    "if(ch=='A'or ch=='E'or ch=='I'or ch=='O' or ch=='U' or ch=='a' or ch=='e' or ch=='i' or ch=='o' or ch=='u'):\n",
    " print(ch,\"is a vowel\")\n",
    "else:\n",
    "  print(ch,\"is a consonant\")"
   ]
  },
  {
   "cell_type": "code",
   "execution_count": 7,
   "metadata": {},
   "outputs": [
    {
     "name": "stdout",
     "output_type": "stream",
     "text": [
      "f is a consonant\n"
     ]
    }
   ],
   "source": [
    "ch='f'\n",
    "if(ch==\"a\"or ch=='e'or ch=='i'or ch=='o' or ch=='u'):\n",
    "  print(ch,\"is a vowel\")\n",
    "else:\n",
    "  print(ch,\"is a consonant\")  "
   ]
  },
  {
   "cell_type": "code",
   "execution_count": 8,
   "metadata": {},
   "outputs": [
    {
     "name": "stdout",
     "output_type": "stream",
     "text": [
      "man is a consonant\n"
     ]
    }
   ],
   "source": [
    "ch='man'\n",
    "if(ch=='a' or ch=='e' or ch=='i' or ch=='o' or ch=='u'):\n",
    "  print(ch,\"is a vowel\")\n",
    "else:\n",
    "  print(ch,\"is a consonant\")  "
   ]
  },
  {
   "cell_type": "code",
   "execution_count": 9,
   "metadata": {},
   "outputs": [
    {
     "data": {
      "image/png": "[encoded data removed]",
      "text/plain": [
       "<Figure size 432x288 with 1 Axes>"
      ]
     },
     "metadata": {
      "needs_background": "light"
     },
     "output_type": "display_data"
    }
   ],
   "source": [
    "#Data visualization\n",
    "\n",
    "##Q.23 plot the simple line plot for the following data.\n",
    "\n",
    "#importing the required libraries\n",
    "import matplotlib.pyplot as plt\n",
    "import numpy as np\n",
    "#define data values\n",
    "x=np.array(['2015','2016','2017','2018','2019','2020'])\n",
    "y=[700,1200,9500,800,950,1000]\n",
    "plt.plot(x, y)\n",
    "plt.show()\n",
    "\n"
   ]
  },
  {
   "cell_type": "code",
   "execution_count": 10,
   "metadata": {},
   "outputs": [
    {
     "data": {
      "image/png": "[encoded data removed]",
      "text/plain": [
       "<Figure size 432x288 with 1 Axes>"
      ]
     },
     "metadata": {
      "needs_background": "light"
     },
     "output_type": "display_data"
    }
   ],
   "source": [
    "# Q.24 Draw a rod plot for the following data.\n",
    "\n",
    "import matplotlib.pyplot as plt\n",
    "X=['1','2','3','4','5','6']\n",
    "h=[14,22,27,80,93,11]\n",
    "plt.bar(X,h)\n",
    "plt.show()"
   ]
  }
 ],
 "metadata": {
  "kernelspec": {
   "display_name": "Python 3",
   "language": "python",
   "name": "python3"
  },
  "language_info": {
   "codemirror_mode": {
    "name": "ipython",
    "version": 3
   },
   "file_extension": ".py",
   "mimetype": "text/x-python",
   "name": "python",
   "nbconvert_exporter": "python",
   "pygments_lexer": "ipython3",
   "version": "3.8.5"
  }
 },
 "nbformat": 4,
 "nbformat_minor": 4
}
